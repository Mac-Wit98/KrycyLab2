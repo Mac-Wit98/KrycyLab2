{
 "cells": [
  {
   "cell_type": "markdown",
   "metadata": {},
   "source": [
    "Intro to Log Analysis\n",
    "Use Python to read a file line by line\n"
   ]
  },
  {
   "cell_type": "code",
   "execution_count": null,
   "metadata": {},
   "outputs": [],
   "source": [
    "## Open the file with the read-only permit\n",
    "f = open('access_log.txt', \"r\")\n",
    "## use deadlines to read all lines in the file\n",
    "## The variable \"lines\" is a list containing all lines\n",
    "lines = f.readlines()\n",
    "print (lines)\n",
    "## close the file after reading the lines.\n",
    "f.close()"
   ]
  },
  {
   "cell_type": "code",
   "execution_count": null,
   "metadata": {},
   "outputs": [],
   "source": [
    "## Open the file with the read-only permit\n",
    "f = open('access_log.txt', \"r\")\n",
    "#strUsrInput = input(\"Enter IP Address: \")\n",
    "strUsrInput = \"108.162.226.111\"\n",
    "for line in iter(f):\n",
    "    ip = line.split(\" - \")[0]\n",
    "    if ip == strUsrInput:\n",
    "        print(line)\n",
    "\n",
    "f.close()"
   ]
  },
  {
   "cell_type": "code",
   "execution_count": null,
   "metadata": {},
   "outputs": [],
   "source": [
    "#!/usr/bin/env python3\n",
    "# This line opens the log file\n",
    "f=open('access_log.txt',\"r\")\n",
    "# This line takes each line in the log file and stores it as an element in the list\n",
    "lines = f.readlines()\n",
    "# This lines stores the IP that the user types as a var called userinput\n",
    "userinput = \"108.162.226.111\"# input(\"Enter the IP you want to search for: \")\n",
    "# This combination for loop and nested if statement looks for the IP in the list called lines and prints the entire line if found.\n",
    "for ip in lines:\n",
    "   if ip.find(userinput) != -1:\n",
    "      print (ip)"
   ]
  },
  {
   "cell_type": "markdown",
   "metadata": {},
   "source": [
    "Parsing CSV Files & Formatting output"
   ]
  },
  {
   "cell_type": "code",
   "execution_count": null,
   "metadata": {},
   "outputs": [],
   "source": [
    "import csv"
   ]
  },
  {
   "cell_type": "code",
   "execution_count": null,
   "metadata": {},
   "outputs": [],
   "source": [
    "f = open('class_nessus.csv', 'rb')\n",
    "for row in f:   \n",
    "   print (row)"
   ]
  },
  {
   "cell_type": "code",
   "execution_count": null,
   "metadata": {},
   "outputs": [],
   "source": [
    "ifile = open('class_nessus.csv', \"r\")\n",
    "reader = csv.reader(ifile)\n",
    "rownum = 0\n",
    "for row in reader:\n",
    "   # Save header row.\n",
    "   if rownum == 0:\n",
    "       header = row\n",
    "   else:\n",
    "       colnum = 0\n",
    "for col in row:\n",
    "   print ('%-8s: %s' % (header[colnum], col))\n",
    "   colnum += 1\n",
    "\n",
    "rownum += 1\n",
    "ifile.close()"
   ]
  },
  {
   "cell_type": "code",
   "execution_count": null,
   "metadata": {},
   "outputs": [],
   "source": [
    "f = open('class_nessus.csv', 'r')\n",
    "try:\n",
    "   rownum = 0\n",
    "   reader = csv.reader(f)\n",
    "   for row in reader:\n",
    "      #Save header row.\n",
    "      if rownum == 0:\n",
    "          header = row\n",
    "      else:\n",
    "          colnum = 0\n",
    "          if row[3].lower() == 'high':\n",
    "              print ('%-1s: %s %-1s: %s %-1s: %s %-1s: %s' % (header[3], row[3],header[4], row[4],header[5], row[5],header[6], row[6]))\n",
    "          rownum += 1\n",
    "finally:\n",
    "   f.close()"
   ]
  }
 ],
 "metadata": {
  "kernelspec": {
   "display_name": "Python 3.10.4 64-bit",
   "language": "python",
   "name": "python3"
  },
  "language_info": {
   "codemirror_mode": {
    "name": "ipython",
    "version": 3
   },
   "file_extension": ".py",
   "mimetype": "text/x-python",
   "name": "python",
   "nbconvert_exporter": "python",
   "pygments_lexer": "ipython3",
   "version": "3.10.4"
  },
  "orig_nbformat": 4,
  "vscode": {
   "interpreter": {
    "hash": "369f2c481f4da34e4445cda3fffd2e751bd1c4d706f27375911949ba6bb62e1c"
   }
  }
 },
 "nbformat": 4,
 "nbformat_minor": 2
}
