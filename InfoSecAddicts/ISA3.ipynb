{
 "cells": [
  {
   "cell_type": "markdown",
   "metadata": {},
   "source": [
    "Regular Expressions"
   ]
  },
  {
   "cell_type": "code",
   "execution_count": null,
   "metadata": {},
   "outputs": [],
   "source": [
    "import re\n",
    "re.match()\n",
    "re.search()\n",
    "re.findall()\n",
    "re.split()\n",
    "re.sub()\n",
    "re.compile()"
   ]
  },
  {
   "cell_type": "markdown",
   "metadata": {},
   "source": [
    "re.match() method\n",
    "This method finds match if it occurs at start of the string. For example,\n",
    "calling match() on the string ‘AV Analytics AV’ and looking for a pattern\n",
    "‘AV’ will match. However, if we look for only Analytics, the pattern will not match. Let’s perform it in python now."
   ]
  },
  {
   "cell_type": "code",
   "execution_count": 1,
   "metadata": {},
   "outputs": [],
   "source": [
    "import re"
   ]
  },
  {
   "cell_type": "code",
   "execution_count": 2,
   "metadata": {},
   "outputs": [
    {
     "name": "stdout",
     "output_type": "stream",
     "text": [
      "<re.Match object; span=(0, 2), match='AV'>\n"
     ]
    }
   ],
   "source": [
    "result = re.match(r'AV', 'AV Analytics ESET AV')\n",
    "print (result)"
   ]
  },
  {
   "cell_type": "code",
   "execution_count": 10,
   "metadata": {},
   "outputs": [
    {
     "name": "stdout",
     "output_type": "stream",
     "text": [
      "AV\n"
     ]
    }
   ],
   "source": [
    "result = re.match(r'AV', 'AV Analytics ESET AV')\n",
    "print (result.group(0))"
   ]
  },
  {
   "cell_type": "code",
   "execution_count": 8,
   "metadata": {},
   "outputs": [
    {
     "name": "stdout",
     "output_type": "stream",
     "text": [
      "None\n"
     ]
    }
   ],
   "source": [
    "result = re.match(r'Analytics', 'AV Analytics ESET AV')\n",
    "print (result)"
   ]
  },
  {
   "cell_type": "code",
   "execution_count": 7,
   "metadata": {},
   "outputs": [
    {
     "name": "stdout",
     "output_type": "stream",
     "text": [
      "0\n",
      "2\n"
     ]
    }
   ],
   "source": [
    "result = re.match(r'AV', 'AV Analytics ESET AV')\n",
    "print (result.start())\n",
    "print (result.end())"
   ]
  },
  {
   "cell_type": "markdown",
   "metadata": {},
   "source": [
    "re.search() method\n",
    "It is similar to match() but it doesn’t restrict us to find matches at the\n",
    "beginning of the string only. Unlike previous method, here searching for\n",
    "pattern ‘Analytics’ will return a match."
   ]
  },
  {
   "cell_type": "code",
   "execution_count": 11,
   "metadata": {},
   "outputs": [
    {
     "name": "stdout",
     "output_type": "stream",
     "text": [
      "Analytics\n"
     ]
    }
   ],
   "source": [
    "result = re.search(r'Analytics', 'AV Analytics ESET AV')\n",
    "print (result.group(0))"
   ]
  },
  {
   "cell_type": "markdown",
   "metadata": {},
   "source": [
    "re.findall (pattern, string)\n",
    "It helps to get a list of all matching patterns. It has no constraints of\n",
    "searching from start or end. If we will use method findall to search ‘AV’ in a given string it will return both occurrences of AV. While searching a string,\n",
    "I would recommend you to use re.findall() always, it can work like\n",
    "re.search() and re.match() both."
   ]
  },
  {
   "cell_type": "code",
   "execution_count": 12,
   "metadata": {},
   "outputs": [
    {
     "name": "stdout",
     "output_type": "stream",
     "text": [
      "['AV', 'AV']\n"
     ]
    }
   ],
   "source": [
    "result = re.findall(r'AV', 'AV Analytics ESET AV')\n",
    "print (result)"
   ]
  },
  {
   "cell_type": "markdown",
   "metadata": {},
   "source": [
    "re.split(pattern, string, [maxsplit=0])\n",
    "This method helps to split the string by the occurrences of a given pattern.\n",
    "\n"
   ]
  },
  {
   "cell_type": "code",
   "execution_count": 14,
   "metadata": {},
   "outputs": [
    {
     "name": "stdout",
     "output_type": "stream",
     "text": [
      "['Anal', 'tics']\n"
     ]
    }
   ],
   "source": [
    "result=re.split(r'y','Analytics')\n",
    "print(result)"
   ]
  },
  {
   "cell_type": "code",
   "execution_count": null,
   "metadata": {},
   "outputs": [],
   "source": []
  },
  {
   "cell_type": "markdown",
   "metadata": {},
   "source": [
    "Output:\n",
    "[‘Anal’, ‘tics’]\n",
    "Above, we have split the string “Analytics” by “y”. Method split() has\n",
    "another argument “maxsplit”. It has default value of zero. In this case it\n",
    "does the maximum splits that can be done, but if we give value to maxsplit, it will split the string. Let’s look at the example below:\n",
    "Code"
   ]
  },
  {
   "cell_type": "code",
   "execution_count": 16,
   "metadata": {},
   "outputs": [
    {
     "name": "stdout",
     "output_type": "stream",
     "text": [
      "['Analytic', ' e', 'et']\n"
     ]
    }
   ],
   "source": [
    "import re\n",
    "result=re.split(r's','Analytics eset')\n",
    "print(result)"
   ]
  },
  {
   "cell_type": "markdown",
   "metadata": {},
   "source": [
    "[‘Analytic’, ‘ e’, ‘et’] #It has performed all the splits that can be done by\n",
    "pattern “s”."
   ]
  },
  {
   "cell_type": "code",
   "execution_count": 17,
   "metadata": {},
   "outputs": [
    {
     "name": "stdout",
     "output_type": "stream",
     "text": [
      "['Analytic', ' eset']\n"
     ]
    }
   ],
   "source": [
    "result=re.split(r's','Analytics eset',maxsplit=1)\n",
    "print(result)"
   ]
  },
  {
   "cell_type": "markdown",
   "metadata": {},
   "source": [
    "Output:\n",
    "['Analytic', ' eset']"
   ]
  },
  {
   "cell_type": "code",
   "execution_count": 18,
   "metadata": {},
   "outputs": [
    {
     "name": "stdout",
     "output_type": "stream",
     "text": [
      "['Analytic', ' eset']\n"
     ]
    }
   ],
   "source": [
    "result=re.split(r's','Analytics eset',maxsplit=1)\n",
    "print (result)"
   ]
  },
  {
   "cell_type": "markdown",
   "metadata": {},
   "source": [
    "re.sub(pattern, repl, string)\n",
    "It helps to search a pattern and replace with a new substring. If the\n",
    "pattern is not found, string is returned unchanged."
   ]
  },
  {
   "cell_type": "code",
   "execution_count": 19,
   "metadata": {},
   "outputs": [
    {
     "name": "stdout",
     "output_type": "stream",
     "text": [
      "Joe likes Python\n"
     ]
    }
   ],
   "source": [
    "result=re.sub(r'Ruby','Python','Joe likes Ruby')\n",
    "print (result)"
   ]
  },
  {
   "cell_type": "markdown",
   "metadata": {},
   "source": [
    "\n",
    "re.compile() method\n",
    "We can combine a regular expression pattern into pattern objects, which can be used for pattern matching. It also helps to search a pattern again without rewriting it."
   ]
  },
  {
   "cell_type": "code",
   "execution_count": 20,
   "metadata": {},
   "outputs": [
    {
     "name": "stdout",
     "output_type": "stream",
     "text": [
      "['XSS', 'XSS']\n",
      "['XSS']\n"
     ]
    }
   ],
   "source": [
    "pattern=re.compile('XSS')\n",
    "result=pattern.findall('XSS is Cross Site Scripting, XSS')\n",
    "print (result)\n",
    "result2=pattern.findall('XSS is Cross Site Scripting, SQLi is Sql Injection')\n",
    "print (result2)"
   ]
  },
  {
   "cell_type": "markdown",
   "metadata": {},
   "source": [
    "\n",
    "Till now, we looked at various methods of regular expression using a\n",
    "constant pattern (fixed characters). But, what if we do not have a constant search pattern and we want to return specific set of characters (defined by a rule) from a string? Don’t be intimidated.\n",
    "This can easily be solved by defining an expression with the help of pattern operators (meta and literal characters). Let’s look at the most common pattern operators.\n",
    "Regular expressions can specify patterns, not just fixed characters. Here are the most commonly used operators that helps to generate an expression to represent required characters in a string or file. It is commonly used in web scrapping and text mining to extract required information.\n",
    "Operators Description\n",
    ". Matches with any single character except newline ‘\\n’.\n",
    "? match 0 or 1 occurrence of the pattern to its left\n",
    "+ 1 or more occurrences of the pattern to its left\n",
    "* 0 or more occurrences of the pattern to its left\n",
    "\\w Matches with a alphanumeric character whereas \\W (upper case W)\n",
    "matches non alphanumeric character.\n",
    "\\d Matches with digits [0-9] and /D (upper case D) matches with nondigits.\n",
    "\\s Matches with a single white space character (space, newline,\n",
    "return, tab, form) and \\S (upper case S) matches any non-white space\n",
    "character.\n",
    "\\b boundary between word and non-word and /B is opposite of /b\n",
    "[..] Matches any single character in a square bracket and [^..]\n",
    "matches any single character not in square bracket\n",
    "\\ It is used for special meaning characters like \\. to match a\n",
    "period or \\+ for plus sign.\n",
    "^ and $ ^ and $ match the start or end of the string respectively\n",
    "{n,m} Matches at least n and at most m occurrences of preceding\n",
    "expression if we write it as {,m} then it will return at least any minimum\n",
    "occurrence to max m preceding expression.\n",
    "a| b Matches either a or b\n",
    "( ) Groups regular expressions and returns matched text\n",
    "\\t, \\n, \\r Matches tab, newline, return\n",
    "For more details on meta characters “(“, “)”,”|” and others details , you\n",
    "can refer this link (https://docs.python.org/2/library/re.html).\n",
    "Now, let’s understand the pattern operators by looking at the below examples."
   ]
  },
  {
   "cell_type": "code",
   "execution_count": 21,
   "metadata": {},
   "outputs": [
    {
     "name": "stdout",
     "output_type": "stream",
     "text": [
      "['P', 'y', 't', 'h', 'o', 'n', ' ', 'i', 's', ' ', 't', 'h', 'e', ' ', 'b', 'e', 's', 't', ' ', 's', 'c', 'r', 'i', 'p', 't', 'i', 'n', 'g', ' ', 'l', 'a', 'n', 'g', 'u', 'a', 'g', 'e']\n"
     ]
    }
   ],
   "source": [
    "result=re.findall(r'.','Python is the best scripting language')\n",
    "print (result)"
   ]
  },
  {
   "cell_type": "code",
   "execution_count": 22,
   "metadata": {},
   "outputs": [
    {
     "name": "stdout",
     "output_type": "stream",
     "text": [
      "['P', 'y', 't', 'h', 'o', 'n', 'i', 's', 't', 'h', 'e', 'b', 'e', 's', 't', 's', 'c', 'r', 'i', 'p', 't', 'i', 'n', 'g', 'l', 'a', 'n', 'g', 'u', 'a', 'g', 'e']\n"
     ]
    }
   ],
   "source": [
    "result=re.findall(r'\\w','Python is the best scripting language')\n",
    "print (result)"
   ]
  },
  {
   "cell_type": "code",
   "execution_count": 23,
   "metadata": {},
   "outputs": [
    {
     "name": "stdout",
     "output_type": "stream",
     "text": [
      "['Python', '', 'is', '', 'the', '', 'best', '', 'scripting', '', 'language', '']\n"
     ]
    }
   ],
   "source": [
    "result=re.findall(r'\\w*','Python is the best scripting language')\n",
    "print (result)"
   ]
  },
  {
   "cell_type": "markdown",
   "metadata": {},
   "source": [
    "[‘Python’, ”, ‘is’, ”, ‘the’, ”, ‘best’, ”, ‘scripting’, ”, ‘language’,\n",
    "”]\n",
    "Again, it is returning space as a word because “*” returns zero or more\n",
    "matches of pattern to its left. Now to remove spaces we will go with “+”."
   ]
  },
  {
   "cell_type": "code",
   "execution_count": 25,
   "metadata": {},
   "outputs": [
    {
     "name": "stdout",
     "output_type": "stream",
     "text": [
      "['Python', 'is', 'the', 'best', 'scripting', 'language']\n"
     ]
    }
   ],
   "source": [
    "result=re.findall(r'\\w+','Python is the best scripting language')\n",
    "print (result)"
   ]
  },
  {
   "cell_type": "code",
   "execution_count": 26,
   "metadata": {},
   "outputs": [
    {
     "name": "stdout",
     "output_type": "stream",
     "text": [
      "['Python']\n"
     ]
    }
   ],
   "source": [
    "result=re.findall(r'^\\w+','Python is the best scripting language')\n",
    "print (result)"
   ]
  },
  {
   "cell_type": "markdown",
   "metadata": {},
   "source": [
    "If we will use “$” instead of “^”, it will return the word from the end of\n",
    "the string. Let’s look at it."
   ]
  },
  {
   "cell_type": "code",
   "execution_count": 27,
   "metadata": {},
   "outputs": [
    {
     "name": "stdout",
     "output_type": "stream",
     "text": [
      "['language']\n"
     ]
    }
   ],
   "source": [
    "result=re.findall(r'\\w+$','Python is the best scripting language')\n",
    "print (result)"
   ]
  },
  {
   "cell_type": "markdown",
   "metadata": {},
   "source": [
    "* Problem 2: Return the first two character of each word *\n",
    "Solution-1 Extract consecutive two characters of each word, excluding spaces\n",
    "(using “\\w”)"
   ]
  },
  {
   "cell_type": "code",
   "execution_count": 28,
   "metadata": {},
   "outputs": [
    {
     "name": "stdout",
     "output_type": "stream",
     "text": [
      "['Py', 'th', 'on', 'is', 'th', 'be', 'st']\n"
     ]
    }
   ],
   "source": [
    "result=re.findall(r'\\w\\w','Python is the best')\n",
    "print (result)"
   ]
  },
  {
   "cell_type": "markdown",
   "metadata": {},
   "source": [
    "Solution-2 Extract consecutive two characters those available at start of\n",
    "word boundary (using “\\b”)"
   ]
  },
  {
   "cell_type": "code",
   "execution_count": 34,
   "metadata": {},
   "outputs": [
    {
     "name": "stdout",
     "output_type": "stream",
     "text": [
      "['Py', 'is', 'th', 'be']\n"
     ]
    }
   ],
   "source": [
    "result=re.findall(r'\\b\\w.','Python is the best')\n",
    "print (result)"
   ]
  },
  {
   "cell_type": "markdown",
   "metadata": {},
   "source": [
    "* Problem 3: Return the domain type of given email-ids *\n",
    "Solution-1 Extract all characters after “@”"
   ]
  },
  {
   "cell_type": "code",
   "execution_count": 36,
   "metadata": {},
   "outputs": [
    {
     "name": "stdout",
     "output_type": "stream",
     "text": [
      "['@gmail', '@test', '@strategicsec', '@rest']\n"
     ]
    }
   ],
   "source": [
    "result=re.findall(r'@\\w+','abc.test@gmail.com, xyz@test.com,test.first@strategicsec.com, first.test@rest.biz')\n",
    "print (result)"
   ]
  },
  {
   "cell_type": "code",
   "execution_count": 45,
   "metadata": {},
   "outputs": [
    {
     "name": "stdout",
     "output_type": "stream",
     "text": [
      "['@gmail.com', '@test.com', '@strategicsec.com', '@rest.biz']\n"
     ]
    }
   ],
   "source": [
    "result=re.findall(r'@\\w+.\\w+','abc.test@gmail.com, xyz@test.com,test.first@strategicsec.com, first.test@rest.biz')\n",
    "print (result)"
   ]
  },
  {
   "cell_type": "markdown",
   "metadata": {},
   "source": [
    "Solution – 2 Extract only domain name using “( )”"
   ]
  },
  {
   "cell_type": "code",
   "execution_count": 38,
   "metadata": {},
   "outputs": [
    {
     "name": "stdout",
     "output_type": "stream",
     "text": [
      "['com', 'com', 'com', 'biz']\n"
     ]
    }
   ],
   "source": [
    "result=re.findall(r'@\\w+.(\\w+)','abc.test@gmail.com, xyz@test.com,test.first@strategicsec.com, first.test@rest.biz')\n",
    "print (result)"
   ]
  },
  {
   "cell_type": "code",
   "execution_count": 39,
   "metadata": {},
   "outputs": [
    {
     "name": "stdout",
     "output_type": "stream",
     "text": [
      "['com', 'com', 'com', 'biz']\n"
     ]
    }
   ],
   "source": [
    "result=re.findall(r'@\\w+.(\\w+)','abc.test@gmail.com, xyz@test.com,test.first@strategicsec.com, first.test@rest.biz')\n",
    "print (result)"
   ]
  },
  {
   "cell_type": "markdown",
   "metadata": {},
   "source": [
    "* Problem 4: Return date from given string *\n",
    "Here we will use “\\d” to extract digit.\n",
    "Solution:"
   ]
  },
  {
   "cell_type": "code",
   "execution_count": 40,
   "metadata": {},
   "outputs": [
    {
     "name": "stdout",
     "output_type": "stream",
     "text": [
      "['12-05-2007', '11-11-2016', '12-01-2009']\n"
     ]
    }
   ],
   "source": [
    "result=re.findall(r'\\d{2}-\\d{2}-\\d{4}','Joe 34-3456 12-05-2007, XYZ 56-453211-11-2016, ABC 67-8945 12-01-2009')\n",
    "print (result)"
   ]
  },
  {
   "cell_type": "code",
   "execution_count": 41,
   "metadata": {},
   "outputs": [
    {
     "name": "stdout",
     "output_type": "stream",
     "text": [
      "['2007', '2016', '2009']\n"
     ]
    }
   ],
   "source": [
    "result=re.findall(r'\\d{2}-\\d{2}-(\\d{4})','Joe 34-3456 12-05-2007, XYZ 56-453211-11-2016, ABC 67-8945 12-01-2009')\n",
    "print (result)"
   ]
  },
  {
   "cell_type": "markdown",
   "metadata": {},
   "source": [
    "* Problem 5: Return all words of a string those starts with vowel *\n",
    "Solution-1 Return each words"
   ]
  },
  {
   "cell_type": "code",
   "execution_count": 43,
   "metadata": {},
   "outputs": [
    {
     "name": "stdout",
     "output_type": "stream",
     "text": [
      "['Python', 'is', 'the', 'best']\n"
     ]
    }
   ],
   "source": [
    "result=re.findall(r'\\w+','Python is the best')\n",
    "print (result)"
   ]
  }
 ],
 "metadata": {
  "kernelspec": {
   "display_name": "Python 3.10.4 64-bit",
   "language": "python",
   "name": "python3"
  },
  "language_info": {
   "codemirror_mode": {
    "name": "ipython",
    "version": 3
   },
   "file_extension": ".py",
   "mimetype": "text/x-python",
   "name": "python",
   "nbconvert_exporter": "python",
   "pygments_lexer": "ipython3",
   "version": "3.10.4"
  },
  "orig_nbformat": 4,
  "vscode": {
   "interpreter": {
    "hash": "369f2c481f4da34e4445cda3fffd2e751bd1c4d706f27375911949ba6bb62e1c"
   }
  }
 },
 "nbformat": 4,
 "nbformat_minor": 2
}
