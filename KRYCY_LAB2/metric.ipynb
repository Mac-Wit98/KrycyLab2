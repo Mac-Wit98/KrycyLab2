{
 "cells": [
  {
   "cell_type": "code",
   "execution_count": 183,
   "metadata": {},
   "outputs": [
    {
     "name": "stdout",
     "output_type": "stream",
     "text": [
      "1.5.1\n"
     ]
    }
   ],
   "source": [
    "import pandas as pd\n",
    "print(pd.__version__)"
   ]
  },
  {
   "cell_type": "code",
   "execution_count": 184,
   "metadata": {},
   "outputs": [],
   "source": [
    "df = pd.read_csv(\"data.csv\",header=0,names=['no', 'time', 'source', 'destination', 'protocol', 'length', 'info'])"
   ]
  },
  {
   "cell_type": "code",
   "execution_count": 185,
   "metadata": {},
   "outputs": [
    {
     "name": "stdout",
     "output_type": "stream",
     "text": [
      "<class 'pandas.core.frame.DataFrame'>\n",
      "RangeIndex: 46654 entries, 0 to 46653\n",
      "Data columns (total 7 columns):\n",
      " #   Column       Non-Null Count  Dtype  \n",
      "---  ------       --------------  -----  \n",
      " 0   no           46654 non-null  int64  \n",
      " 1   time         46654 non-null  float64\n",
      " 2   source       46654 non-null  object \n",
      " 3   destination  46654 non-null  object \n",
      " 4   protocol     46654 non-null  object \n",
      " 5   length       46654 non-null  int64  \n",
      " 6   info         46654 non-null  object \n",
      "dtypes: float64(1), int64(2), object(4)\n",
      "memory usage: 2.5+ MB\n"
     ]
    }
   ],
   "source": [
    "df.info()"
   ]
  },
  {
   "cell_type": "code",
   "execution_count": 186,
   "metadata": {},
   "outputs": [
    {
     "data": {
      "text/html": [
       "<div>\n",
       "<style scoped>\n",
       "    .dataframe tbody tr th:only-of-type {\n",
       "        vertical-align: middle;\n",
       "    }\n",
       "\n",
       "    .dataframe tbody tr th {\n",
       "        vertical-align: top;\n",
       "    }\n",
       "\n",
       "    .dataframe thead th {\n",
       "        text-align: right;\n",
       "    }\n",
       "</style>\n",
       "<table border=\"1\" class=\"dataframe\">\n",
       "  <thead>\n",
       "    <tr style=\"text-align: right;\">\n",
       "      <th></th>\n",
       "      <th>no</th>\n",
       "      <th>time</th>\n",
       "      <th>source</th>\n",
       "      <th>destination</th>\n",
       "      <th>protocol</th>\n",
       "      <th>length</th>\n",
       "      <th>info</th>\n",
       "    </tr>\n",
       "  </thead>\n",
       "  <tbody>\n",
       "    <tr>\n",
       "      <th>0</th>\n",
       "      <td>1</td>\n",
       "      <td>1.495095e+09</td>\n",
       "      <td>HewlettP_e7:3a:14</td>\n",
       "      <td>Broadcast</td>\n",
       "      <td>ARP</td>\n",
       "      <td>60</td>\n",
       "      <td>Who has 192.168.116.1? Tell 192.168.116.150</td>\n",
       "    </tr>\n",
       "    <tr>\n",
       "      <th>1</th>\n",
       "      <td>2</td>\n",
       "      <td>1.495095e+09</td>\n",
       "      <td>HewlettP_e7:3a:14</td>\n",
       "      <td>Broadcast</td>\n",
       "      <td>ARP</td>\n",
       "      <td>60</td>\n",
       "      <td>Who has 192.168.116.1? Tell 192.168.116.150</td>\n",
       "    </tr>\n",
       "    <tr>\n",
       "      <th>2</th>\n",
       "      <td>3</td>\n",
       "      <td>1.495095e+09</td>\n",
       "      <td>HewlettP_e7:3a:14</td>\n",
       "      <td>Broadcast</td>\n",
       "      <td>ARP</td>\n",
       "      <td>60</td>\n",
       "      <td>Who has 192.168.116.1? Tell 192.168.116.150</td>\n",
       "    </tr>\n",
       "    <tr>\n",
       "      <th>3</th>\n",
       "      <td>4</td>\n",
       "      <td>1.495095e+09</td>\n",
       "      <td>192.168.116.172</td>\n",
       "      <td>192.168.116.255</td>\n",
       "      <td>SMB_NETLOGON</td>\n",
       "      <td>293</td>\n",
       "      <td>SAM LOGON request from client</td>\n",
       "    </tr>\n",
       "    <tr>\n",
       "      <th>4</th>\n",
       "      <td>5</td>\n",
       "      <td>1.495095e+09</td>\n",
       "      <td>192.168.116.172</td>\n",
       "      <td>192.168.116.143</td>\n",
       "      <td>SMB_NETLOGON</td>\n",
       "      <td>293</td>\n",
       "      <td>SAM LOGON request from client</td>\n",
       "    </tr>\n",
       "    <tr>\n",
       "      <th>5</th>\n",
       "      <td>6</td>\n",
       "      <td>1.495095e+09</td>\n",
       "      <td>192.168.116.143</td>\n",
       "      <td>192.168.116.172</td>\n",
       "      <td>SMB_NETLOGON</td>\n",
       "      <td>344</td>\n",
       "      <td>SAM Active Directory Response - user unknown</td>\n",
       "    </tr>\n",
       "    <tr>\n",
       "      <th>6</th>\n",
       "      <td>7</td>\n",
       "      <td>1.495095e+09</td>\n",
       "      <td>HewlettP_e7:3a:14</td>\n",
       "      <td>Broadcast</td>\n",
       "      <td>ARP</td>\n",
       "      <td>60</td>\n",
       "      <td>Who has 192.168.116.1? Tell 192.168.116.150</td>\n",
       "    </tr>\n",
       "    <tr>\n",
       "      <th>7</th>\n",
       "      <td>8</td>\n",
       "      <td>1.495095e+09</td>\n",
       "      <td>192.168.116.149</td>\n",
       "      <td>192.168.116.255</td>\n",
       "      <td>SMB_NETLOGON</td>\n",
       "      <td>289</td>\n",
       "      <td>SAM LOGON request from client</td>\n",
       "    </tr>\n",
       "    <tr>\n",
       "      <th>8</th>\n",
       "      <td>9</td>\n",
       "      <td>1.495095e+09</td>\n",
       "      <td>192.168.116.149</td>\n",
       "      <td>192.168.116.143</td>\n",
       "      <td>SMB_NETLOGON</td>\n",
       "      <td>289</td>\n",
       "      <td>SAM LOGON request from client</td>\n",
       "    </tr>\n",
       "    <tr>\n",
       "      <th>9</th>\n",
       "      <td>10</td>\n",
       "      <td>1.495095e+09</td>\n",
       "      <td>192.168.116.143</td>\n",
       "      <td>192.168.116.149</td>\n",
       "      <td>SMB_NETLOGON</td>\n",
       "      <td>344</td>\n",
       "      <td>SAM Active Directory Response - user unknown</td>\n",
       "    </tr>\n",
       "  </tbody>\n",
       "</table>\n",
       "</div>"
      ],
      "text/plain": [
       "   no          time             source      destination      protocol  length  \\\n",
       "0   1  1.495095e+09  HewlettP_e7:3a:14        Broadcast           ARP      60   \n",
       "1   2  1.495095e+09  HewlettP_e7:3a:14        Broadcast           ARP      60   \n",
       "2   3  1.495095e+09  HewlettP_e7:3a:14        Broadcast           ARP      60   \n",
       "3   4  1.495095e+09    192.168.116.172  192.168.116.255  SMB_NETLOGON     293   \n",
       "4   5  1.495095e+09    192.168.116.172  192.168.116.143  SMB_NETLOGON     293   \n",
       "5   6  1.495095e+09    192.168.116.143  192.168.116.172  SMB_NETLOGON     344   \n",
       "6   7  1.495095e+09  HewlettP_e7:3a:14        Broadcast           ARP      60   \n",
       "7   8  1.495095e+09    192.168.116.149  192.168.116.255  SMB_NETLOGON     289   \n",
       "8   9  1.495095e+09    192.168.116.149  192.168.116.143  SMB_NETLOGON     289   \n",
       "9  10  1.495095e+09    192.168.116.143  192.168.116.149  SMB_NETLOGON     344   \n",
       "\n",
       "                                           info  \n",
       "0   Who has 192.168.116.1? Tell 192.168.116.150  \n",
       "1   Who has 192.168.116.1? Tell 192.168.116.150  \n",
       "2   Who has 192.168.116.1? Tell 192.168.116.150  \n",
       "3                 SAM LOGON request from client  \n",
       "4                 SAM LOGON request from client  \n",
       "5  SAM Active Directory Response - user unknown  \n",
       "6   Who has 192.168.116.1? Tell 192.168.116.150  \n",
       "7                 SAM LOGON request from client  \n",
       "8                 SAM LOGON request from client  \n",
       "9  SAM Active Directory Response - user unknown  "
      ]
     },
     "execution_count": 186,
     "metadata": {},
     "output_type": "execute_result"
    }
   ],
   "source": [
    "df.head(10)"
   ]
  },
  {
   "cell_type": "code",
   "execution_count": 187,
   "metadata": {},
   "outputs": [],
   "source": [
    "pi = df[[\"protocol\", \"info\"]]\n"
   ]
  },
  {
   "cell_type": "markdown",
   "metadata": {},
   "source": [
    "Pierwsza metryka - smb + Trans2 Response<unknown>, Error: STATUS_NOT_IMPLEMENTED"
   ]
  },
  {
   "cell_type": "code",
   "execution_count": 188,
   "metadata": {},
   "outputs": [
    {
     "data": {
      "text/html": [
       "<div>\n",
       "<style scoped>\n",
       "    .dataframe tbody tr th:only-of-type {\n",
       "        vertical-align: middle;\n",
       "    }\n",
       "\n",
       "    .dataframe tbody tr th {\n",
       "        vertical-align: top;\n",
       "    }\n",
       "\n",
       "    .dataframe thead th {\n",
       "        text-align: right;\n",
       "    }\n",
       "</style>\n",
       "<table border=\"1\" class=\"dataframe\">\n",
       "  <thead>\n",
       "    <tr style=\"text-align: right;\">\n",
       "      <th></th>\n",
       "      <th>protocol</th>\n",
       "      <th>info</th>\n",
       "    </tr>\n",
       "  </thead>\n",
       "  <tbody>\n",
       "    <tr>\n",
       "      <th>0</th>\n",
       "      <td>ARP</td>\n",
       "      <td>Who has 192.168.116.1? Tell 192.168.116.150</td>\n",
       "    </tr>\n",
       "    <tr>\n",
       "      <th>1</th>\n",
       "      <td>ARP</td>\n",
       "      <td>Who has 192.168.116.1? Tell 192.168.116.150</td>\n",
       "    </tr>\n",
       "    <tr>\n",
       "      <th>2</th>\n",
       "      <td>ARP</td>\n",
       "      <td>Who has 192.168.116.1? Tell 192.168.116.150</td>\n",
       "    </tr>\n",
       "    <tr>\n",
       "      <th>3</th>\n",
       "      <td>SMB_NETLOGON</td>\n",
       "      <td>SAM LOGON request from client</td>\n",
       "    </tr>\n",
       "    <tr>\n",
       "      <th>4</th>\n",
       "      <td>SMB_NETLOGON</td>\n",
       "      <td>SAM LOGON request from client</td>\n",
       "    </tr>\n",
       "    <tr>\n",
       "      <th>5</th>\n",
       "      <td>SMB_NETLOGON</td>\n",
       "      <td>SAM Active Directory Response - user unknown</td>\n",
       "    </tr>\n",
       "    <tr>\n",
       "      <th>6</th>\n",
       "      <td>ARP</td>\n",
       "      <td>Who has 192.168.116.1? Tell 192.168.116.150</td>\n",
       "    </tr>\n",
       "    <tr>\n",
       "      <th>7</th>\n",
       "      <td>SMB_NETLOGON</td>\n",
       "      <td>SAM LOGON request from client</td>\n",
       "    </tr>\n",
       "    <tr>\n",
       "      <th>8</th>\n",
       "      <td>SMB_NETLOGON</td>\n",
       "      <td>SAM LOGON request from client</td>\n",
       "    </tr>\n",
       "    <tr>\n",
       "      <th>9</th>\n",
       "      <td>SMB_NETLOGON</td>\n",
       "      <td>SAM Active Directory Response - user unknown</td>\n",
       "    </tr>\n",
       "  </tbody>\n",
       "</table>\n",
       "</div>"
      ],
      "text/plain": [
       "       protocol                                          info\n",
       "0           ARP   Who has 192.168.116.1? Tell 192.168.116.150\n",
       "1           ARP   Who has 192.168.116.1? Tell 192.168.116.150\n",
       "2           ARP   Who has 192.168.116.1? Tell 192.168.116.150\n",
       "3  SMB_NETLOGON                 SAM LOGON request from client\n",
       "4  SMB_NETLOGON                 SAM LOGON request from client\n",
       "5  SMB_NETLOGON  SAM Active Directory Response - user unknown\n",
       "6           ARP   Who has 192.168.116.1? Tell 192.168.116.150\n",
       "7  SMB_NETLOGON                 SAM LOGON request from client\n",
       "8  SMB_NETLOGON                 SAM LOGON request from client\n",
       "9  SMB_NETLOGON  SAM Active Directory Response - user unknown"
      ]
     },
     "execution_count": 188,
     "metadata": {},
     "output_type": "execute_result"
    }
   ],
   "source": [
    "pi.head(10)"
   ]
  },
  {
   "cell_type": "code",
   "execution_count": 189,
   "metadata": {},
   "outputs": [],
   "source": [
    "smb = pi[pi[\"protocol\"] == \"SMB\"]"
   ]
  },
  {
   "cell_type": "code",
   "execution_count": 190,
   "metadata": {},
   "outputs": [],
   "source": [
    "smb_error = smb[smb[\"info\"] == \"Trans2 Response<unknown>, Error: STATUS_NOT_IMPLEMENTED\"]"
   ]
  },
  {
   "cell_type": "code",
   "execution_count": 191,
   "metadata": {},
   "outputs": [
    {
     "data": {
      "text/html": [
       "<div>\n",
       "<style scoped>\n",
       "    .dataframe tbody tr th:only-of-type {\n",
       "        vertical-align: middle;\n",
       "    }\n",
       "\n",
       "    .dataframe tbody tr th {\n",
       "        vertical-align: top;\n",
       "    }\n",
       "\n",
       "    .dataframe thead th {\n",
       "        text-align: right;\n",
       "    }\n",
       "</style>\n",
       "<table border=\"1\" class=\"dataframe\">\n",
       "  <thead>\n",
       "    <tr style=\"text-align: right;\">\n",
       "      <th></th>\n",
       "      <th>protocol</th>\n",
       "      <th>info</th>\n",
       "    </tr>\n",
       "  </thead>\n",
       "  <tbody>\n",
       "    <tr>\n",
       "      <th>3895</th>\n",
       "      <td>SMB</td>\n",
       "      <td>Trans2 Response&lt;unknown&gt;, Error: STATUS_NOT_IM...</td>\n",
       "    </tr>\n",
       "    <tr>\n",
       "      <th>4071</th>\n",
       "      <td>SMB</td>\n",
       "      <td>Trans2 Response&lt;unknown&gt;, Error: STATUS_NOT_IM...</td>\n",
       "    </tr>\n",
       "    <tr>\n",
       "      <th>4086</th>\n",
       "      <td>SMB</td>\n",
       "      <td>Trans2 Response&lt;unknown&gt;, Error: STATUS_NOT_IM...</td>\n",
       "    </tr>\n",
       "    <tr>\n",
       "      <th>4091</th>\n",
       "      <td>SMB</td>\n",
       "      <td>Trans2 Response&lt;unknown&gt;, Error: STATUS_NOT_IM...</td>\n",
       "    </tr>\n",
       "    <tr>\n",
       "      <th>4096</th>\n",
       "      <td>SMB</td>\n",
       "      <td>Trans2 Response&lt;unknown&gt;, Error: STATUS_NOT_IM...</td>\n",
       "    </tr>\n",
       "  </tbody>\n",
       "</table>\n",
       "</div>"
      ],
      "text/plain": [
       "     protocol                                               info\n",
       "3895      SMB  Trans2 Response<unknown>, Error: STATUS_NOT_IM...\n",
       "4071      SMB  Trans2 Response<unknown>, Error: STATUS_NOT_IM...\n",
       "4086      SMB  Trans2 Response<unknown>, Error: STATUS_NOT_IM...\n",
       "4091      SMB  Trans2 Response<unknown>, Error: STATUS_NOT_IM...\n",
       "4096      SMB  Trans2 Response<unknown>, Error: STATUS_NOT_IM..."
      ]
     },
     "execution_count": 191,
     "metadata": {},
     "output_type": "execute_result"
    }
   ],
   "source": [
    "smb_error.head()"
   ]
  },
  {
   "cell_type": "markdown",
   "metadata": {},
   "source": [
    "Druga metryka - SMB, Info contain (NT Trans)"
   ]
  },
  {
   "cell_type": "code",
   "execution_count": 192,
   "metadata": {},
   "outputs": [
    {
     "data": {
      "text/plain": [
       "<bound method NDFrame.head of           no      protocol                                         info\n",
       "0          1           ARP  Who has 192.168.116.1? Tell 192.168.116.150\n",
       "1          2           ARP  Who has 192.168.116.1? Tell 192.168.116.150\n",
       "2          3           ARP  Who has 192.168.116.1? Tell 192.168.116.150\n",
       "3          4  SMB_NETLOGON                SAM LOGON request from client\n",
       "4          5  SMB_NETLOGON                SAM LOGON request from client\n",
       "...      ...           ...                                          ...\n",
       "46649  46650           ARP  Who has 192.168.116.1? Tell 192.168.116.150\n",
       "46650  46651           ARP  Who has 192.168.116.1? Tell 192.168.116.150\n",
       "46651  46652           ARP  Who has 192.168.116.1? Tell 192.168.116.150\n",
       "46652  46653           ARP  Who has 192.168.116.1? Tell 192.168.116.150\n",
       "46653  46654           ARP  Who has 192.168.116.1? Tell 192.168.116.150\n",
       "\n",
       "[46654 rows x 3 columns]>"
      ]
     },
     "execution_count": 192,
     "metadata": {},
     "output_type": "execute_result"
    }
   ],
   "source": [
    "npi = df[[\"no\",\"protocol\", \"info\"]]\n",
    "npi.head\n"
   ]
  },
  {
   "cell_type": "code",
   "execution_count": 193,
   "metadata": {},
   "outputs": [
    {
     "data": {
      "text/plain": [
       "<bound method NDFrame.head of           no protocol                                               info\n",
       "32        33      SMB                         Negotiate Protocol Request\n",
       "91        92      SMB                         Negotiate Protocol Request\n",
       "202      203      SMB                         Negotiate Protocol Request\n",
       "1118    1119      SMB                         Negotiate Protocol Request\n",
       "1119    1120      SMB                        Negotiate Protocol Response\n",
       "...      ...      ...                                                ...\n",
       "46342  46343      SMB  Trans2 Response<unknown>, Error: STATUS_NOT_IM...\n",
       "46345  46346      SMB                      Trans2 Request, SESSION_SETUP\n",
       "46347  46348      SMB  Trans2 Response<unknown>, Error: STATUS_NOT_IM...\n",
       "46350  46351      SMB                      Trans2 Request, SESSION_SETUP\n",
       "46352  46353      SMB  Trans2 Response<unknown>, Error: STATUS_NOT_IM...\n",
       "\n",
       "[16383 rows x 3 columns]>"
      ]
     },
     "execution_count": 193,
     "metadata": {},
     "output_type": "execute_result"
    }
   ],
   "source": [
    "npi_smb = npi[ (npi[\"protocol\"] == \"SMB\")]\n",
    "npi_smb.head"
   ]
  },
  {
   "cell_type": "code",
   "execution_count": 181,
   "metadata": {},
   "outputs": [
    {
     "data": {
      "text/plain": [
       "<PandasArray>\n",
       "[   33,    92,   203,  1119,  1120,  1121,  1122,  1123,  1124,  1126,\n",
       " ...\n",
       " 46331, 46333, 46336, 46338, 46341, 46343, 46346, 46348, 46351, 46353]\n",
       "Length: 16383, dtype: int64"
      ]
     },
     "execution_count": 181,
     "metadata": {},
     "output_type": "execute_result"
    }
   ],
   "source": [
    "#Tablica indeksów id z SMB\n",
    "smb_index = npi.loc[ npi[\"protocol\"] == \"SMB\", \"no\"].array\n",
    "smb_index\n"
   ]
  },
  {
   "cell_type": "code",
   "execution_count": 205,
   "metadata": {},
   "outputs": [
    {
     "name": "stdout",
     "output_type": "stream",
     "text": [
      "ALERT - possible ongoing EternalBlue exploitation\n",
      "ALERT - possible ongoing EternalBlue exploitation\n",
      "ALERT - possible ongoing EternalBlue exploitation\n",
      "ALERT - possible ongoing EternalBlue exploitation\n",
      "ALERT - possible ongoing EternalBlue exploitation\n",
      "ALERT - possible ongoing EternalBlue exploitation\n",
      "ALERT - possible ongoing EternalBlue exploitation\n",
      "ALERT - possible ongoing EternalBlue exploitation\n",
      "ALERT - possible ongoing EternalBlue exploitation\n",
      "ALERT - possible ongoing EternalBlue exploitation\n",
      "ALERT - possible ongoing EternalBlue exploitation\n",
      "ALERT - possible ongoing EternalBlue exploitation\n",
      "ALERT - possible ongoing EternalBlue exploitation\n"
     ]
    }
   ],
   "source": [
    "flag = 0\n",
    "counter_FID = 0\n",
    "counter_packages = 20\n",
    "for id in smb_index:\n",
    "    if flag == 1 and counter_packages > 0:\n",
    "        counter_packages -= 1\n",
    "        if npi_smb.loc[(npi_smb[\"no\"] == id), \"info\"].str.contains(\"Trans2 Secondary Request, FID: 0x0000\").values[0]:\n",
    "            counter_FID += 1\n",
    "    else:\n",
    "        if counter_FID > 10:\n",
    "            print(\"ALERT - possible ongoing EternalBlue exploitation \")\n",
    "            counter_packages = 20\n",
    "            counter_FID = 0\n",
    "            flag = 0\n",
    "        if npi_smb.loc[(npi_smb[\"no\"] == id), \"info\"].str.contains(\"NT Trans Request, <unknown>\").values[0]:\n",
    "            flag = 1\n",
    "        \n"
   ]
  },
  {
   "cell_type": "code",
   "execution_count": 202,
   "metadata": {},
   "outputs": [
    {
     "data": {
      "text/plain": [
       "False"
      ]
     },
     "execution_count": 202,
     "metadata": {},
     "output_type": "execute_result"
    }
   ],
   "source": [
    "npi_smb.loc[(npi_smb[\"no\"] == 1126), \"info\"].str.contains(\"NT Trans Request, <unknown>\").values[0]"
   ]
  },
  {
   "cell_type": "code",
   "execution_count": null,
   "metadata": {},
   "outputs": [],
   "source": [
    "array_of_info = df.loc[(npi[\"no\"] > id) & (npi[\"no\"] <= (id+20)), \"info\"].array"
   ]
  },
  {
   "cell_type": "code",
   "execution_count": 137,
   "metadata": {},
   "outputs": [
    {
     "name": "stdout",
     "output_type": "stream",
     "text": [
      "No Alert\n",
      "No Alert\n",
      "No Alert\n",
      "No Alert\n",
      "No Alert\n",
      "No Alert\n",
      "No Alert\n",
      "No Alert\n",
      "No Alert\n",
      "No Alert\n",
      "No Alert\n",
      "No Alert\n",
      "No Alert\n",
      "No Alert\n"
     ]
    }
   ],
   "source": [
    "for id in array_of_index:\n",
    "    count = 0\n",
    "    array_of_info = npi.loc[(npi[\"no\"] > id) & (npi[\"no\"] <= (id+20)), \"info\"].array\n",
    "    for info in array_of_info:\n",
    "        if info == \"Trans2 Secondary Request, FID: 0x0000\":\n",
    "            count+=1\n",
    "    if count > 10 :\n",
    "        print(\"ALERT - possible ongoing EternalBlue exploitation\")\n",
    "    else:\n",
    "        print(\"No Alert\")"
   ]
  }
 ],
 "metadata": {
  "kernelspec": {
   "display_name": "Python 3.10.4 64-bit",
   "language": "python",
   "name": "python3"
  },
  "language_info": {
   "codemirror_mode": {
    "name": "ipython",
    "version": 3
   },
   "file_extension": ".py",
   "mimetype": "text/x-python",
   "name": "python",
   "nbconvert_exporter": "python",
   "pygments_lexer": "ipython3",
   "version": "3.10.4"
  },
  "orig_nbformat": 4,
  "vscode": {
   "interpreter": {
    "hash": "369f2c481f4da34e4445cda3fffd2e751bd1c4d706f27375911949ba6bb62e1c"
   }
  }
 },
 "nbformat": 4,
 "nbformat_minor": 2
}
